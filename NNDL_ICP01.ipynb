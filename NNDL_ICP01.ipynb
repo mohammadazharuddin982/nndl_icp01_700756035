{
  "nbformat": 4,
  "nbformat_minor": 0,
  "metadata": {
    "colab": {
      "provenance": []
    },
    "kernelspec": {
      "name": "python3",
      "display_name": "Python 3"
    },
    "language_info": {
      "name": "python"
    }
  },
  "cells": [
    {
      "cell_type": "code",
      "execution_count": null,
      "metadata": {
        "colab": {
          "base_uri": "https://localhost:8080/"
        },
        "id": "m1m7aeyn7YTQ",
        "outputId": "d3bdf77b-e8e7-4d3c-b2ae-7e650dcf863d"
      },
      "outputs": [
        {
          "output_type": "stream",
          "name": "stdout",
          "text": [
            "enter your first name azharuddin\n",
            "enter your last name mohammad\n",
            "your full name is azharuddinmohammad\n"
          ]
        }
      ],
      "source": [
        "def fullname(firstname,lastname):\n",
        "  return firstname+lastname\n",
        "\n",
        "firstname=input(\"enter your first name \")\n",
        "lastname=input(\"enter your last name \")\n",
        "fullname=fullname(firstname,lastname)\n",
        "print(\"your full name is \"+fullname)"
      ]
    },
    {
      "cell_type": "code",
      "source": [
        "def string_alternative(fullname):\n",
        "  return fullname[::2]\n",
        "\n",
        "fullname=input(\"enter the fullname \")\n",
        "print(string_alternative(fullname))\n"
      ],
      "metadata": {
        "colab": {
          "base_uri": "https://localhost:8080/"
        },
        "id": "3yx_iUF28bF5",
        "outputId": "1710158c-4435-4055-b253-73f3be38aea3"
      },
      "execution_count": null,
      "outputs": [
        {
          "output_type": "stream",
          "name": "stdout",
          "text": [
            "enter the fullname AZHARUDDINMOHAMMAD\n",
            "AHRDIMHMA\n"
          ]
        }
      ]
    },
    {
      "cell_type": "code",
      "source": [
        "from collections import Counter\n",
        "with open('/content/input.txt', 'r') as input_file:\n",
        "    lines = input_file.readlines()\n",
        "\n",
        "output_lines = []\n",
        "list_of_words = []\n",
        "\n",
        "for line in lines:\n",
        "    line = line.strip()\n",
        "\n",
        "    list_of_words.extend(line.split(\" \"))\n",
        "\n",
        "\n",
        "element_count = Counter(list_of_words)\n",
        "\n",
        "for element, count in element_count.items():\n",
        "  output_lines.append(f\"{element} - Count: {count}\")\n",
        "\n",
        "with open('\\My Drive\\Colab Notebooks\\output.txt', 'w') as output_file:\n",
        "    output_file.write(\"Python Course\" + '\\n')\n",
        "    output_file.write(\"Deep Learning Course\" + '\\n')\n",
        "    output_file.write(\"Word_Count:\" + '\\n')\n",
        "    for line in output_lines:\n",
        "        output_file.write(line + '\\n')\n",
        "\n",
        "print(\"Output written to output.txt\")"
      ],
      "metadata": {
        "colab": {
          "base_uri": "https://localhost:8080/"
        },
        "id": "S1UnplEW8qQo",
        "outputId": "9e7df1e5-8227-4c24-8435-06d738d5e46c"
      },
      "execution_count": null,
      "outputs": [
        {
          "output_type": "stream",
          "name": "stdout",
          "text": [
            "Output written to output.txt\n"
          ]
        }
      ]
    },
    {
      "cell_type": "code",
      "source": [
        "height_inch=[]\n",
        "height_cm=[]\n",
        "\n",
        "\n",
        "num_customers = int(input(\"Enter the number of customers: \"))\n",
        "heights_inches = [float(input(f\"Enter the height in inches of the customer {i + 1}: \")) for i in range(num_customers)]\n",
        "heights_cm = [inches * 2.54 for inches in heights_inches]\n",
        "for i in range(num_customers):\n",
        "    print(f\"Customer {i + 1}: {heights_inches[i]} inches = {heights_cm[i]} cm\")"
      ],
      "metadata": {
        "colab": {
          "base_uri": "https://localhost:8080/"
        },
        "id": "K_CXIW4R9MH3",
        "outputId": "761c014c-7c4f-4212-c91d-ee26f4293aa5"
      },
      "execution_count": null,
      "outputs": [
        {
          "output_type": "stream",
          "name": "stdout",
          "text": [
            "Enter the number of customers: 3\n",
            "Enter the height in inches of the customer 1: 10\n",
            "Enter the height in inches of the customer 2: 20\n",
            "Enter the height in inches of the customer 3: 30\n",
            "Customer 1: 10.0 inches = 25.4 cm\n",
            "Customer 2: 20.0 inches = 50.8 cm\n",
            "Customer 3: 30.0 inches = 76.2 cm\n"
          ]
        }
      ]
    },
    {
      "cell_type": "code",
      "source": [
        "height_inches=[]\n",
        "height_cm=[]\n",
        "\n",
        "height_inches=[10,20,30,40,50]\n",
        "height_cm=[inch*2.54 for inch in height_inches]\n",
        "print(height_cm)"
      ],
      "metadata": {
        "colab": {
          "base_uri": "https://localhost:8080/"
        },
        "id": "fb0jcYX39arq",
        "outputId": "c4f449f5-c8cc-4f87-ebaf-8cc99d465e02"
      },
      "execution_count": null,
      "outputs": [
        {
          "output_type": "stream",
          "name": "stdout",
          "text": [
            "[25.4, 50.8, 76.2, 101.6, 127.0]\n"
          ]
        }
      ]
    }
  ]
}